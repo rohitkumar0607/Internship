{
 "cells": [
  {
   "cell_type": "code",
   "execution_count": null,
   "id": "fa2f4ad0",
   "metadata": {},
   "outputs": [],
   "source": [
    "# factorial program\n",
    "\n",
    "while True:\n",
    "    def factorial(numb):\n",
    "        for i in range(numb-1,0,-1):\n",
    "            numb=numb*i    \n",
    "            if i==1:\n",
    "                return numb \n",
    "    num=int(input(\"enter the number to find factorial\\n you entered  \"))\n",
    "    print(\"factorial is--\",factorial(num))"
   ]
  },
  {
   "cell_type": "code",
   "execution_count": null,
   "id": "3a796a84",
   "metadata": {},
   "outputs": [],
   "source": [
    "# prime number program\n",
    "\n",
    "while True :\n",
    "    def prime(z):\n",
    "        for r in range(2,z+1):\n",
    "            for w in range(2,r):\n",
    "                if r%w==0: \n",
    "                    print(r,'-is not a prime number and its a composite number')\n",
    "                    break\n",
    "            else:\n",
    "                print(r,' is a prime')\n",
    "\n",
    "    print('to find prime number or composite number')\n",
    "    lp=int(input(\"enter the number--\"))\n",
    "    prime(lp)\n"
   ]
  },
  {
   "cell_type": "code",
   "execution_count": null,
   "id": "6cf00466",
   "metadata": {},
   "outputs": [],
   "source": [
    "# Right angle triangle program\n",
    "\n",
    "def right_angle_traiangle():\n",
    "    import numpy as np\n",
    "    while True:\n",
    "        num_1=int(input(\"press 1 if you want ***HYPOTENUSE*** of Right angle triangle\\npress 2 if you want ***HEIGHT*** of Right angle triangle\\npress 3 if you want ***BASE*** of Right angle triangle\" ))\n",
    "        if num_1==1:\n",
    "            a=int(input(\"enter Height-\"))\n",
    "            b=int(input(\"enter Base-\"))\n",
    "            c=np.sqrt((a**2)+(b**2))\n",
    "            print(\"Hypotenuse is-\",c)\n",
    "            continue\n",
    "        elif num_1==2:\n",
    "            a=int(input(\"enter hypotenuse-\"))\n",
    "            b=int(input(\"enter Base-\"))\n",
    "            c=np.sqrt((a**2)-(b**2))\n",
    "            print(\"Height is-\",c)\n",
    "            continue\n",
    "        elif num_1==3:\n",
    "            a=int(input(\"enter height-\"))\n",
    "            b=int(input(\"enter hypotenuse-\"))\n",
    "            c=np.sqrt((b**2)-(a**2))\n",
    "            print(\"Height is-\",c)\n",
    "            continue    \n",
    "right_angle_traiangle()    "
   ]
  },
  {
   "cell_type": "code",
   "execution_count": null,
   "id": "6d4f5352",
   "metadata": {},
   "outputs": [],
   "source": [
    "# palindrome program\n",
    "\n",
    "def palindrome():\n",
    "    while True: \n",
    "        a=(input('enter the string-'))\n",
    "        if a==a[::-1]:\n",
    "            print(a,\"- is a palindrome\")\n",
    "            continue\n",
    "        else:\n",
    "            print(a,'- is not a palindrome')\n",
    "            continue\n",
    "palindrome()        "
   ]
  },
  {
   "cell_type": "code",
   "execution_count": null,
   "id": "358726ab",
   "metadata": {},
   "outputs": [],
   "source": [
    "# frequency of characters program\n",
    "\n",
    "str1=input(\"enter the string: \")\n",
    "d=dict()\n",
    "for c in str1:\n",
    "    if c in d:\n",
    "        d[c]=d[c]+1\n",
    "    else:\n",
    "        d[c]=1\n",
    "print(d)        "
   ]
  }
 ],
 "metadata": {
  "kernelspec": {
   "display_name": "Python 3 (ipykernel)",
   "language": "python",
   "name": "python3"
  },
  "language_info": {
   "codemirror_mode": {
    "name": "ipython",
    "version": 3
   },
   "file_extension": ".py",
   "mimetype": "text/x-python",
   "name": "python",
   "nbconvert_exporter": "python",
   "pygments_lexer": "ipython3",
   "version": "3.9.13"
  }
 },
 "nbformat": 4,
 "nbformat_minor": 5
}
